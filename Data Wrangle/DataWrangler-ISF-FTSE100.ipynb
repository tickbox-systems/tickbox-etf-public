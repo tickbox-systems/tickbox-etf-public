{
 "cells": [
  {
   "cell_type": "code",
   "execution_count": null,
   "metadata": {},
   "outputs": [],
   "source": [
    "import numpy as np\n",
    "import pandas as pd\n",
    "\n",
    "def clean_data(df):\n",
    "    # Rename column 'Securities In Issue' to 'SecInIssue'\n",
    "    df = df.rename(columns={'Securities In Issue': 'SecInIssue'})\n",
    "    # Replace all instances of \",\" with \"\" in column: 'SecInIssue'\n",
    "    df['SecInIssue'] = df['SecInIssue'].str.replace(\",\", \"\", case=False, regex=False)\n",
    "    df['SecInIssue'] = df['SecInIssue'].replace(to_replace='--', value=np.nan)\n",
    "    # Rename column 'Net Assets' to 'NetAssets'\n",
    "    df = df.rename(columns={'Net Assets': 'NetAssets'})\n",
    "    # Replace all instances of \",\" with \"\" in column: 'NetAssets'\n",
    "    df['NetAssets'] = df['NetAssets'].str.replace(\",\", \"\", case=False, regex=False)\n",
    "    df['NetAssets'] = df['NetAssets'].replace(to_replace='--', value=np.nan)\n",
    "    # Change column type to float64 for column: 'SecInIssue'\n",
    "    df = df.astype({'SecInIssue': 'float64'})\n",
    "    # Change column type to float64 for column: 'NetAssets'\n",
    "    df = df.astype({'NetAssets': 'float64'})\n",
    "    return df\n",
    "\n",
    "# Loaded variable 'df' from URI: m:\\A_Biz\\T710-Repos-WD\\tickbox-etf\\Data\\iShares-ISF-FTSE100-20231031.csv\n",
    "df = pd.read_csv(r'm:\\\\A_Biz\\\\T710-Repos-WD\\\\tickbox-etf\\\\Data\\\\iShares-ISF-FTSE100-20231031.csv')\n",
    "\n",
    "df_clean = clean_data(df.copy())\n",
    "df_clean.head()"
   ]
  }
 ],
 "metadata": {
  "kernelspec": {
   "display_name": "Python 3",
   "language": "python",
   "name": "python3"
  },
  "language_info": {
   "name": "python",
   "version": "3.11.6"
  }
 },
 "nbformat": 4,
 "nbformat_minor": 2
}
